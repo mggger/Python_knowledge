{
 "cells": [
  {
   "cell_type": "markdown",
   "metadata": {},
   "source": [
    "# Rabbitmq\n",
    "\n",
    "rabbitmq是轻量级的，易于部署在本地和云上的消息队列服务。它支持多个消息传递协议。 \n",
    "使用消息队列的原因：\n",
    "1. 解耦: 使用中间件的模式，改善系统间耦合性太强的问题。\n",
    "2. 异步: 将消息写入消息队列，非必要的业务逻辑以异步的方式运行，加快相应速度。\n",
    "3. 削峰: 如果有大规模的请求需要服务端存储到数据库， 使用消息队列能够慢慢的按照数据库能处理的并发量，从消息队列中慢慢拉取消息"
   ]
  },
  {
   "cell_type": "markdown",
   "metadata": {
    "heading_collapsed": true
   },
   "source": [
    "## Rabbitmq的传输可靠性保证\n",
    "\n",
    "1.生产者丢数据： \n",
    "\n",
    "    从生产者弄丢数据这个角度来看，RabbitMQ提供transaction和confirm模式来确保生产者不丢消息。transaction机制就是说，发送消息前，开启事务（channel.txSelect()）,然后发送消息，如果发送过程中出现什么异常，事务就会回滚（channel.txRollback()）,如果发送成功则提交事务（channel.txCommit()）。 生产上用confirm模式的居多。一旦channel进入confirm模式，所有在该信道上发布的消息都将会被指派一个唯一的ID（从1开始），一旦消息被投递到所有匹配的队列之后，rabbitMQ就会发送一个ACK给生产者（包含消息的唯一ID），这就使得生产者知道消息已经正确到达目的队列了\n",
    "\n",
    "2.消息队列丢数据：\n",
    "\n",
    "    设置消息队列持久化就行\n",
    "    1.将queue的持久化标识durable设置为true,则代表是一个持久的队列\n",
    "    2.发送消息的时候将deliveryMode=2\n",
    "    \n",
    "3.消费者丢数据:\n",
    "\n",
    "    消费者丢数据一般是因为采用了自动确认消息模式。这种模式下，消费者会自动确认收到信息。这时rabbitMQ会立即将消息删除，这种情况下，如果消费者出现异常而未能处理消息，就会丢失该消息。采用手动确认消息即可。\n",
    "\n"
   ]
  },
  {
   "cell_type": "markdown",
   "metadata": {},
   "source": [
    "## Rabbitmq的工作模式\n",
    "1. work queues\n",
    "2. publish / subscribe\n",
    "3. routing\n",
    "4. topics\n",
    "5. rpc"
   ]
  },
  {
   "cell_type": "markdown",
   "metadata": {
    "heading_collapsed": true
   },
   "source": [
    "### Work queues\n",
    "![work queue](images/python-two.png)\n",
    "\n",
    "工作队列背后的主要思想是为了避免立即执行资源密集型任务，而必须等待它完成。相反，我们计划稍后要完成的任务。我们将任务封装为消息并将其发送到队列。在后台运行的工作进程将弹出任务并最终执行作业。（所以rabbitmq是celery指定broker^^） 这种工作模式一个任务对应一个worker"
   ]
  },
  {
   "cell_type": "markdown",
   "metadata": {
    "heading_collapsed": true,
    "hidden": true
   },
   "source": [
    "#### Producer "
   ]
  },
  {
   "cell_type": "code",
   "execution_count": 2,
   "metadata": {
    "hidden": true
   },
   "outputs": [
    {
     "name": "stdout",
     "output_type": "stream",
     "text": [
      "[x] sent 'Hello world .' \n"
     ]
    }
   ],
   "source": [
    "import pika\n",
    "import sys\n",
    "\n",
    "connection = pika.BlockingConnection(pika.ConnectionParameters(host='localhost'))\n",
    "channel = connection.channel()\n",
    "# 消息持久化\n",
    "channel.queue_declare(queue='task_queue', durable=True)\n",
    "\n",
    "message = 'Hello world .'\n",
    "channel.basic_publish(exchange='',\n",
    "                     routing_key='task_queue',\n",
    "                     body=message,\n",
    "                     properties=pika.BasicProperties(\n",
    "                         delivery_mode = 2  # make message persistent\n",
    "                     ))\n",
    "\n",
    "print(\"[x] sent %r \" % message)\n",
    "connection.close()"
   ]
  },
  {
   "cell_type": "markdown",
   "metadata": {
    "hidden": true
   },
   "source": [
    "#### consumer"
   ]
  },
  {
   "cell_type": "code",
   "execution_count": null,
   "metadata": {
    "hidden": true
   },
   "outputs": [],
   "source": [
    "import pika\n",
    "import time\n",
    "\n",
    "connection = pika.BlockingConnection(pika.ConnectionParameters(host='localhost'))\n",
    "channel = connection.channel()\n",
    "\n",
    "channel.queue_declare(queue='task_queue', durable=True)\n",
    "print('[*] Waiting for message.')\n",
    "\n",
    "\n",
    "def callback(ch, method, properties, body):\n",
    "    print(\" [x] Received %r\" % body)\n",
    "\n",
    "    # 模拟任务\n",
    "    time.sleep(body.count(b'.'))\n",
    "    print(\" [x] Done\")\n",
    "    \n",
    "    # 避免重复消费， 发送ACK确认\n",
    "    ch.basic_ack(delivery_tag = method.delivery_tag)\n",
    "\n",
    "# 在一个时间单位下不要给worker超过一个任务\n",
    "channel.basic_qos(prefetch_count=1)\n",
    "channel.basic_consume(callback,\n",
    "                      queue='task_queue')\n",
    "\n",
    "channel.start_consuming()"
   ]
  },
  {
   "cell_type": "markdown",
   "metadata": {
    "heading_collapsed": true
   },
   "source": [
    "### Publish / Subsribe\n",
    "\n",
    "![exchange](images/exchanges.png)\n",
    "\n",
    "这种工作模式允许我们投递一条消息，给多个消费者进行消费（广播给其他的消费者）. 生产者只会将消息投递给交换机(exchange), 由交换机将消息投递给其他的队列，由exchange的type决定接收的队列     \n",
    "***\n",
    "** Exchange Type: **\n",
    "    1. direct  直接模式，根据绑定队列指定的routing_key来为消息指定分发的队列\n",
    "    2. topic   话题， 用户自定义相关的routing_key给绑定的queue\n",
    "    3. headers\n",
    "    4. fanout  广播模式，投递给多个queue， 需要为exchange绑定queue, 不需要指定routing_key"
   ]
  },
  {
   "cell_type": "markdown",
   "metadata": {
    "heading_collapsed": true,
    "hidden": true
   },
   "source": [
    "#### publish"
   ]
  },
  {
   "cell_type": "code",
   "execution_count": null,
   "metadata": {
    "hidden": true
   },
   "outputs": [],
   "source": [
    "import pika\n",
    "\n",
    "connection = pika.BlockingConnection(pika.ConnectionParameters(host='localhost'))\n",
    "channel = connection.channel()\n",
    "\n",
    "# 声明exchange的名字和类型\n",
    "channel.exchange_declare(exchange='logs',\n",
    "                         exchange_type='fanout')\n",
    "\n",
    "message = \"info: Hello World!\"\n",
    "channel.basic_publish(exchange='logs',\n",
    "                      routing_key='',\n",
    "                      body=message)\n",
    "print(\" [x] Sent %r\" % message)\n",
    "connection.close()"
   ]
  },
  {
   "cell_type": "markdown",
   "metadata": {
    "heading_collapsed": true,
    "hidden": true
   },
   "source": [
    "#### Subsribe"
   ]
  },
  {
   "cell_type": "code",
   "execution_count": null,
   "metadata": {
    "hidden": true
   },
   "outputs": [],
   "source": [
    "import pika\n",
    "\n",
    "connection = pika.BlockingConnection(pika.ConnectionParameters(host='localhost'))\n",
    "channel = connection.channel()\n",
    "\n",
    "channel.exchange_declare(exchange='logs',\n",
    "                         exchange_type='fanout')\n",
    "\n",
    "# 当链接关闭的时候， 随机生成的队列应该被销毁\n",
    "result = channel.queue_declare(exclusive=True)\n",
    "\n",
    "queue_name = result.method.queue\n",
    "\n",
    "# 将队列绑定到exchange\n",
    "channel.queue_bind(exchange='logs',\n",
    "                   queue=queue_name)\n",
    "\n",
    "print(' [*] Waiting for logs. To exit press CTRL+C')\n",
    "\n",
    "def callback(ch, method, properties, body):\n",
    "    print(\" [x] %r\" % body)\n",
    "\n",
    "channel.basic_consume(callback,\n",
    "                      queue=queue_name,\n",
    "                      no_ack=True)\n",
    "\n",
    "channel.start_consuming()"
   ]
  },
  {
   "cell_type": "markdown",
   "metadata": {
    "heading_collapsed": true
   },
   "source": [
    "### routing\n",
    "![routing](images/python-four.png)\n",
    "这种工作模式是可以对消息进行挑选的一种工作模式， 比如将错误日志保存到本地， 将普通日志输出到终端"
   ]
  },
  {
   "cell_type": "markdown",
   "metadata": {
    "heading_collapsed": true,
    "hidden": true
   },
   "source": [
    "#### producer"
   ]
  },
  {
   "cell_type": "code",
   "execution_count": null,
   "metadata": {
    "hidden": true
   },
   "outputs": [],
   "source": [
    "import pika\n",
    "\n",
    "\n",
    "connection = pika.BlockingConnection(pika.ConnectionParameters(host='localhost'))\n",
    "channel = connection.channel()\n",
    "\n",
    "# 声明exchange 和类型\n",
    "channel.exchange_declare(exchange='direct_logs',\n",
    "                         exchange_type='direct')\n",
    "\n",
    "messages = {\n",
    "    'error': 'this is error',\n",
    "    'info': 'hello'\n",
    "}\n",
    "\n",
    "\n",
    "for key, value in messages.items():\n",
    "    channel.basic_publish(exchange='direct_logs',\n",
    "                          routing_key=severity,\n",
    "                          body=message)\n",
    "    print(\" [x] Sent %r:%r\" % (key, value))\n",
    "connection.close()"
   ]
  },
  {
   "cell_type": "markdown",
   "metadata": {
    "heading_collapsed": true,
    "hidden": true
   },
   "source": [
    "#### Consumer"
   ]
  },
  {
   "cell_type": "code",
   "execution_count": null,
   "metadata": {
    "hidden": true
   },
   "outputs": [],
   "source": [
    "import pika\n",
    "import sys\n",
    "\n",
    "connection = pika.BlockingConnection(pika.ConnectionParameters(host='localhost'))\n",
    "channel = connection.channel()\n",
    "\n",
    "channel.exchange_declare(exchange='direct_logs',\n",
    "                         exchange_type='direct')\n",
    "\n",
    "result = channel.queue_declare(exclusive=True)\n",
    "queue_name = result.method.queue\n",
    "\n",
    "\n",
    "severity = 'info' # or 'error'\n",
    "\n",
    "\n",
    "channel.queue_bind(exchange='direct_logs',\n",
    "                   queue=queue_name,\n",
    "                   routing_key=severity)\n",
    "\n",
    "print(' [*] Waiting for logs. To exit press CTRL+C')\n",
    "\n",
    "def callback(ch, method, properties, body):\n",
    "    print(\" [x] %r:%r\" % (method.routing_key, body))\n",
    "\n",
    "channel.basic_consume(callback,\n",
    "                      queue=queue_name,\n",
    "                      no_ack=True)\n",
    "\n",
    "channel.start_consuming()"
   ]
  },
  {
   "cell_type": "markdown",
   "metadata": {},
   "source": [
    "### topics\n",
    "![topics](images/python-five.png)\n",
    "topics是一种支持自定以消息获取的工作方式, 它要求绑定的key为一系列的words，通过‘.’分割。          \n",
    "*（星）可以代替一个词。  \n",
    "\\#（hash）可以代替零个或多个单词。 \n",
    "\n",
    "比如如上图所示， Q1只接收黄色相关的， Q2只接收兔子和懒的。\n",
    "\n",
    "如果绑定的key为'#‘， 则相当于fanout模式， 如果没有指定'#'或者'*'则相当于direct模式\n",
    "                "
   ]
  },
  {
   "cell_type": "markdown",
   "metadata": {},
   "source": [
    "### RPC\n",
    "以后用的上再来补充\n"
   ]
  }
 ],
 "metadata": {
  "kernelspec": {
   "display_name": "Python 3",
   "language": "python",
   "name": "python3"
  },
  "language_info": {
   "codemirror_mode": {
    "name": "ipython",
    "version": 3
   },
   "file_extension": ".py",
   "mimetype": "text/x-python",
   "name": "python",
   "nbconvert_exporter": "python",
   "pygments_lexer": "ipython3",
   "version": "3.6.4"
  }
 },
 "nbformat": 4,
 "nbformat_minor": 2
}
