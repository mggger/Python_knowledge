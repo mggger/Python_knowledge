{
 "cells": [
  {
   "cell_type": "markdown",
   "metadata": {
    "slideshow": {
     "slide_type": "slide"
    }
   },
   "source": [
    "## 线性回归 (linear regression)\n",
    "我们有一组输入变量(x)用于确定输出变量(y).输入变量和输出变量之间存在关系。 通过线性回归的目标是量化这种关系。\n",
    "在线性回归中，输入变量（x）和输出变量（y）之间的关系表示为y = a + bx形式的等式。因此，线性回归的目标是找出系数a和b的值\n",
    "\n"
   ]
  },
  {
   "cell_type": "markdown",
   "metadata": {
    "slideshow": {
     "slide_type": "subslide"
    }
   },
   "source": [
    "### 一元线性回归\n",
    "比如下面的一个数据集分布图(picture1), 通过蓝色点的分布情况， 可以大致看成是条线段。  \n",
    "希望通过线性回归找到a, b的关系，得到成y=ax+b关系的数据集(x, y)绘制成一条红线，使得蓝色的点尽可能均匀的分布在红线的上下方:\n",
    "![picture1](images/1_1.png)"
   ]
  },
  {
   "cell_type": "code",
   "execution_count": 2,
   "metadata": {
    "slideshow": {
     "slide_type": "subslide"
    }
   },
   "outputs": [
    {
     "data": {
      "text/html": [
       "<script>requirejs.config({paths: { 'plotly': ['https://cdn.plot.ly/plotly-latest.min']},});if(!window.Plotly) {{require(['plotly'],function(plotly) {window.Plotly=plotly;});}}</script>"
      ],
      "text/vnd.plotly.v1+html": [
       "<script>requirejs.config({paths: { 'plotly': ['https://cdn.plot.ly/plotly-latest.min']},});if(!window.Plotly) {{require(['plotly'],function(plotly) {window.Plotly=plotly;});}}</script>"
      ]
     },
     "metadata": {},
     "output_type": "display_data"
    },
    {
     "data": {
      "application/vnd.plotly.v1+json": {
       "data": [
        {
         "mode": "markers",
         "name": "dataset",
         "type": "scatter",
         "x": [
          1,
          2,
          3,
          4,
          5,
          6,
          7,
          8,
          9,
          10,
          11,
          12,
          13,
          14,
          15,
          16,
          17,
          18,
          19
         ],
         "y": [
          19,
          17,
          23,
          27,
          30,
          26,
          24,
          31,
          29,
          34,
          37,
          39,
          45,
          38,
          47,
          46,
          54,
          50,
          55
         ]
        },
        {
         "mode": "lines",
         "name": "predict",
         "type": "scatter",
         "x": [
          1,
          2,
          3,
          4,
          5,
          6,
          7,
          8,
          9,
          10,
          11,
          12,
          13,
          14,
          15,
          16,
          17,
          18,
          19
         ],
         "y": [
          12,
          14,
          16,
          18,
          20,
          22,
          24,
          26,
          28,
          30,
          32,
          34,
          36,
          38,
          40,
          42,
          44,
          46,
          48
         ]
        }
       ],
       "layout": {
        "font": {
         "size": 16
        },
        "title": "picture1"
       }
      },
      "text/html": [
       "<div id=\"cca7eecd-e7dc-4dd4-8241-5a8ce86ed8e7\" style=\"height: 525px; width: 100%;\" class=\"plotly-graph-div\"></div><script type=\"text/javascript\">require([\"plotly\"], function(Plotly) { window.PLOTLYENV=window.PLOTLYENV || {};window.PLOTLYENV.BASE_URL=\"https://plot.ly\";Plotly.newPlot(\"cca7eecd-e7dc-4dd4-8241-5a8ce86ed8e7\", [{\"type\": \"scatter\", \"x\": [1.0, 2.0, 3.0, 4.0, 5.0, 6.0, 7.0, 8.0, 9.0, 10.0, 11.0, 12.0, 13.0, 14.0, 15.0, 16.0, 17.0, 18.0, 19.0], \"y\": [19.0, 17.0, 23.0, 27.0, 30.0, 26.0, 24.0, 31.0, 29.0, 34.0, 37.0, 39.0, 45.0, 38.0, 47.0, 46.0, 54.0, 50.0, 55.0], \"name\": \"dataset\", \"mode\": \"markers\"}, {\"type\": \"scatter\", \"x\": [1.0, 2.0, 3.0, 4.0, 5.0, 6.0, 7.0, 8.0, 9.0, 10.0, 11.0, 12.0, 13.0, 14.0, 15.0, 16.0, 17.0, 18.0, 19.0], \"y\": [12.0, 14.0, 16.0, 18.0, 20.0, 22.0, 24.0, 26.0, 28.0, 30.0, 32.0, 34.0, 36.0, 38.0, 40.0, 42.0, 44.0, 46.0, 48.0], \"name\": \"predict\", \"mode\": \"lines\"}], {\"title\": \"picture1\", \"font\": {\"size\": 16}}, {\"showLink\": true, \"linkText\": \"Export to plot.ly\"})});</script>"
      ],
      "text/vnd.plotly.v1+html": [
       "<div id=\"cca7eecd-e7dc-4dd4-8241-5a8ce86ed8e7\" style=\"height: 525px; width: 100%;\" class=\"plotly-graph-div\"></div><script type=\"text/javascript\">require([\"plotly\"], function(Plotly) { window.PLOTLYENV=window.PLOTLYENV || {};window.PLOTLYENV.BASE_URL=\"https://plot.ly\";Plotly.newPlot(\"cca7eecd-e7dc-4dd4-8241-5a8ce86ed8e7\", [{\"type\": \"scatter\", \"x\": [1.0, 2.0, 3.0, 4.0, 5.0, 6.0, 7.0, 8.0, 9.0, 10.0, 11.0, 12.0, 13.0, 14.0, 15.0, 16.0, 17.0, 18.0, 19.0], \"y\": [19.0, 17.0, 23.0, 27.0, 30.0, 26.0, 24.0, 31.0, 29.0, 34.0, 37.0, 39.0, 45.0, 38.0, 47.0, 46.0, 54.0, 50.0, 55.0], \"name\": \"dataset\", \"mode\": \"markers\"}, {\"type\": \"scatter\", \"x\": [1.0, 2.0, 3.0, 4.0, 5.0, 6.0, 7.0, 8.0, 9.0, 10.0, 11.0, 12.0, 13.0, 14.0, 15.0, 16.0, 17.0, 18.0, 19.0], \"y\": [12.0, 14.0, 16.0, 18.0, 20.0, 22.0, 24.0, 26.0, 28.0, 30.0, 32.0, 34.0, 36.0, 38.0, 40.0, 42.0, 44.0, 46.0, 48.0], \"name\": \"predict\", \"mode\": \"lines\"}], {\"title\": \"picture1\", \"font\": {\"size\": 16}}, {\"showLink\": true, \"linkText\": \"Export to plot.ly\"})});</script>"
      ]
     },
     "metadata": {},
     "output_type": "display_data"
    }
   ],
   "source": [
    "import pandas as pd\n",
    "import random\n",
    "import plotly.offline as offline\n",
    "import plotly.graph_objs as go  \n",
    "\n",
    "offline.init_notebook_mode(connected=True)\n",
    "\n",
    "def generate_data(n):\n",
    "    dataset = []\n",
    "    \"\"\"y = 2x + random(5-10)\"\"\"\n",
    "    for i in range(1, n):\n",
    "        y = 2 * i + random.randint(10, 20)\n",
    "        dataset.append([i, y])\n",
    "    return dataset\n",
    "\n",
    "def generate_forecast_data(n, k, b):\n",
    "    \"\"\"n: size\n",
    "       k: 斜率\n",
    "       b: 常数项\n",
    "    \"\"\"\n",
    "    dataset = []\n",
    "    for i in range(1, n):\n",
    "        y = k * i + b\n",
    "        dataset.append([i, y])\n",
    "    return dataset\n",
    "\n",
    "# 生成随机数据\n",
    "df = pd.DataFrame(generate_data(20), columns=['x', 'y'], dtype='float64')\n",
    "\n",
    "# 生成假设的数据\n",
    "df1 = pd.DataFrame(generate_forecast_data(20, 2, 10), columns=['x', 'y'], dtype='float64')\n",
    "\n",
    "\n",
    "dataset = go.Scatter(\n",
    "    x = df['x'],\n",
    "    y = df['y'],\n",
    "    name = 'dataset',\n",
    "    mode = 'markers'\n",
    ")\n",
    "predict = go.Scatter(\n",
    "    x = df1['x'],\n",
    "    y = df1['y'],\n",
    "    name = 'predict',\n",
    "    mode = 'lines'\n",
    ")\n",
    "\n",
    "figs = [dataset, predict]\n",
    "offline.iplot({'data': figs, 'layout': {'title': 'picture1', 'font': dict(size=16)}})"
   ]
  },
  {
   "cell_type": "markdown",
   "metadata": {},
   "source": []
  },
  {
   "cell_type": "markdown",
   "metadata": {},
   "source": [
    "#### 处理思路\n",
    "针对方程的未知参数，一般采用最小二乘法进行估计。    \n",
    "***最小二乘法：利用最小二乘法可以简便地求得未知的数据，并使得这些求得的数据与实际数据之间误差的平方和为最小。***    \n",
    "   \n",
    "回到上面讨论的问题， 数据集线性公式为y=ax + b 需要求出a, b， 通过最小二乘法求a, b的公式为:  \n",
    "$\\Large a=\\frac{\\sum_{i=1}^{n}x_{i}y_{i} - n \\cdot \\overline{x}\\cdot\\overline{y}}{\\sum_{i=i}^{n} \\cdot x_{i}^{2} - n\\cdot(\\overline{x})^{2}}$  \n",
    "$\\Large b = \\overline{y} - a\\overline{x}$\n"
   ]
  },
  {
   "cell_type": "markdown",
   "metadata": {},
   "source": [
    "#### 代码实现"
   ]
  },
  {
   "cell_type": "code",
   "execution_count": 4,
   "metadata": {},
   "outputs": [
    {
     "data": {
      "application/vnd.plotly.v1+json": {
       "data": [
        {
         "mode": "markers",
         "name": "dataset",
         "type": "scatter",
         "x": [
          1,
          2,
          3,
          4,
          5,
          6,
          7,
          8,
          9,
          10,
          11,
          12,
          13,
          14,
          15,
          16,
          17,
          18,
          19
         ],
         "y": [
          19,
          17,
          23,
          27,
          30,
          26,
          24,
          31,
          29,
          34,
          37,
          39,
          45,
          38,
          47,
          46,
          54,
          50,
          55
         ]
        },
        {
         "mode": "lines",
         "name": "calculate_dataset",
         "type": "scatter",
         "x": [
          1,
          2,
          3,
          4,
          5,
          6,
          7,
          8,
          9,
          10,
          11,
          12,
          13,
          14,
          15,
          16,
          17,
          18,
          19
         ],
         "y": [
          17.33,
          19.33,
          21.33,
          23.33,
          25.33,
          27.33,
          29.33,
          31.33,
          33.33,
          35.33,
          37.33,
          39.33,
          41.33,
          43.33,
          45.33,
          47.33,
          49.33,
          51.33,
          53.33
         ]
        }
       ],
       "layout": {
        "font": {
         "size": 16
        },
        "title": "picture2"
       }
      },
      "text/html": [
       "<div id=\"52dd6519-190e-4283-a6d3-0ca6dbabbf52\" style=\"height: 525px; width: 100%;\" class=\"plotly-graph-div\"></div><script type=\"text/javascript\">require([\"plotly\"], function(Plotly) { window.PLOTLYENV=window.PLOTLYENV || {};window.PLOTLYENV.BASE_URL=\"https://plot.ly\";Plotly.newPlot(\"52dd6519-190e-4283-a6d3-0ca6dbabbf52\", [{\"type\": \"scatter\", \"x\": [1.0, 2.0, 3.0, 4.0, 5.0, 6.0, 7.0, 8.0, 9.0, 10.0, 11.0, 12.0, 13.0, 14.0, 15.0, 16.0, 17.0, 18.0, 19.0], \"y\": [19.0, 17.0, 23.0, 27.0, 30.0, 26.0, 24.0, 31.0, 29.0, 34.0, 37.0, 39.0, 45.0, 38.0, 47.0, 46.0, 54.0, 50.0, 55.0], \"name\": \"dataset\", \"mode\": \"markers\"}, {\"type\": \"scatter\", \"x\": [1.0, 2.0, 3.0, 4.0, 5.0, 6.0, 7.0, 8.0, 9.0, 10.0, 11.0, 12.0, 13.0, 14.0, 15.0, 16.0, 17.0, 18.0, 19.0], \"y\": [17.33, 19.33, 21.33, 23.33, 25.33, 27.33, 29.33, 31.33, 33.33, 35.33, 37.33, 39.33, 41.33, 43.33, 45.33, 47.33, 49.33, 51.33, 53.33], \"mode\": \"lines\", \"name\": \"calculate_dataset\"}], {\"title\": \"picture2\", \"font\": {\"size\": 16}}, {\"showLink\": true, \"linkText\": \"Export to plot.ly\"})});</script>"
      ],
      "text/vnd.plotly.v1+html": [
       "<div id=\"52dd6519-190e-4283-a6d3-0ca6dbabbf52\" style=\"height: 525px; width: 100%;\" class=\"plotly-graph-div\"></div><script type=\"text/javascript\">require([\"plotly\"], function(Plotly) { window.PLOTLYENV=window.PLOTLYENV || {};window.PLOTLYENV.BASE_URL=\"https://plot.ly\";Plotly.newPlot(\"52dd6519-190e-4283-a6d3-0ca6dbabbf52\", [{\"type\": \"scatter\", \"x\": [1.0, 2.0, 3.0, 4.0, 5.0, 6.0, 7.0, 8.0, 9.0, 10.0, 11.0, 12.0, 13.0, 14.0, 15.0, 16.0, 17.0, 18.0, 19.0], \"y\": [19.0, 17.0, 23.0, 27.0, 30.0, 26.0, 24.0, 31.0, 29.0, 34.0, 37.0, 39.0, 45.0, 38.0, 47.0, 46.0, 54.0, 50.0, 55.0], \"name\": \"dataset\", \"mode\": \"markers\"}, {\"type\": \"scatter\", \"x\": [1.0, 2.0, 3.0, 4.0, 5.0, 6.0, 7.0, 8.0, 9.0, 10.0, 11.0, 12.0, 13.0, 14.0, 15.0, 16.0, 17.0, 18.0, 19.0], \"y\": [17.33, 19.33, 21.33, 23.33, 25.33, 27.33, 29.33, 31.33, 33.33, 35.33, 37.33, 39.33, 41.33, 43.33, 45.33, 47.33, 49.33, 51.33, 53.33], \"mode\": \"lines\", \"name\": \"calculate_dataset\"}], {\"title\": \"picture2\", \"font\": {\"size\": 16}}, {\"showLink\": true, \"linkText\": \"Export to plot.ly\"})});</script>"
      ]
     },
     "metadata": {},
     "output_type": "display_data"
    },
    {
     "data": {
      "text/html": [
       "<script>function downloadimage(format, height, width, filename) {var p = document.getElementById('52dd6519-190e-4283-a6d3-0ca6dbabbf52');Plotly.downloadImage(p, {format: format, height: height, width: width, filename: filename});};if(document.readyState == 'complete') {{downloadimage('png', 600, 800, 'plot_image');}}</script>"
      ],
      "text/plain": [
       "<IPython.core.display.HTML object>"
      ]
     },
     "metadata": {},
     "output_type": "display_data"
    }
   ],
   "source": [
    "def leastsq(x, y):\n",
    "    \"\"\"x为x值的集合\n",
    "       y为y值的集合\n",
    "    \"\"\"\n",
    "    meanx = sum(x) / len(x)   #求x的平均值\n",
    "    meany = sum(y) / len(y)   #求y的平均值\n",
    "\n",
    "    xsum = 0.0\n",
    "    ysum = 0.0\n",
    "\n",
    "    for i in range(len(x)):\n",
    "        xsum += (x[i] - meanx)*(y[i]-meany)\n",
    "        ysum += (x[i] - meanx)**2\n",
    "\n",
    "    k = xsum/ysum\n",
    "    b = meany - k*meanx\n",
    "\n",
    "    return k,b   \n",
    "\n",
    "k, b = leastsq(df['x'], df['y'])\n",
    "df2 = pd.DataFrame(generate_forecast_data(20, round(k, 2), round(b, 2)), columns=['x', 'y'], dtype='float64')\n",
    "\n",
    "cal_dataset = go.Scatter(\n",
    "        x= df2['x'],\n",
    "        y= df2['y'],\n",
    "        mode = 'lines',\n",
    "        name = 'calculate_dataset'\n",
    "    )\n",
    "\n",
    "data2 = [dataset, cal_dataset]\n",
    "offline.iplot({\"data\": data2,  'layout': {'title': 'picture2',\n",
    "                          'font': dict(size=16)}})"
   ]
  },
  {
   "cell_type": "markdown",
   "metadata": {},
   "source": [
    "从图picture2可以看出，通过最小二乘法求得得斜率和常数项， 使得蓝色的点均分分布在它生成得红线上下方。\n",
    "![picture1](images/1_2.png)"
   ]
  },
  {
   "cell_type": "markdown",
   "metadata": {},
   "source": [
    "##### 计算决定系数\n",
    "y = ax + b   \n",
    "决定系数$r^{2}$： 自变量(x)能够描述多少百分比的因变量(y), 公式:  \n",
    "$R^{2}=1 - \\frac{SS_{res}}{SS_{tot}}$  \n",
    "$SS_{res} = \\sum_{i}(y_{i} - f_{i})^{2}$   残差的平方和       \n",
    "$SS_{tot} = \\sum_{i}(y_{i} - \\overline{y})^{2}$   平方和(与数据的方差成比例)    \n",
    "   \n",
    "*** 也就是说残差越小，决定系数$R^{2}$ 越接近1， 拟合的直线更能解释因变量Y的波动***\n"
   ]
  },
  {
   "cell_type": "code",
   "execution_count": 22,
   "metadata": {},
   "outputs": [
    {
     "data": {
      "text/plain": [
       "0.930457162836733"
      ]
     },
     "execution_count": 22,
     "metadata": {},
     "output_type": "execute_result"
    }
   ],
   "source": [
    "from math import pow\n",
    "def calculate_determination(dataset, cal_dataset):\n",
    "    y = df.mean()['y']   # y的平均值\n",
    "    ss_res = 0\n",
    "    ss_tot = 0\n",
    "    for i in range(len(dataset)):\n",
    "        ss_res += pow((dataset.iloc[i]['y'] - cal_dataset.iloc[i]['y']), 2)\n",
    "        ss_tot += pow((dataset.iloc[i]['y'] - y), 2)\n",
    "    return 1 - (ss_res / ss_tot)\n",
    "\n",
    "calculate_determination(df, df2)"
   ]
  }
 ],
 "metadata": {
  "kernelspec": {
   "display_name": "Python 3",
   "language": "python",
   "name": "python3"
  },
  "language_info": {
   "codemirror_mode": {
    "name": "ipython",
    "version": 3
   },
   "file_extension": ".py",
   "mimetype": "text/x-python",
   "name": "python",
   "nbconvert_exporter": "python",
   "pygments_lexer": "ipython3",
   "version": "3.6.4"
  }
 },
 "nbformat": 4,
 "nbformat_minor": 2
}
