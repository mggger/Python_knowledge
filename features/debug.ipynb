{
 "cells": [
  {
   "cell_type": "markdown",
   "metadata": {
    "slideshow": {
     "slide_type": "slide"
    }
   },
   "source": [
    "# Debug （基于python语言)"
   ]
  },
  {
   "cell_type": "markdown",
   "metadata": {
    "slideshow": {
     "slide_type": "slide"
    }
   },
   "source": [
    "## 传统的调试姿势\n",
    "1. print / logging\n",
    "2. pdb (打断点)\n",
    "    \n",
    "### 不好用的地方:\n",
    "- 适用于开发过程\n",
    "- 无法持续追踪问题\n",
    "- 复杂的代码结构进行调试及其困难\n",
    "\n",
    "\n"
   ]
  },
  {
   "cell_type": "markdown",
   "metadata": {
    "slideshow": {
     "slide_type": "slide"
    }
   },
   "source": [
    "## sys.settrace\n",
    "原理: 开发者自定义一个'调试器', 通过settrace进行注册, settrace能够设置系统的跟踪功能。使得在程序运行时获取相关信息，实现动态debug.\n"
   ]
  },
  {
   "cell_type": "markdown",
   "metadata": {
    "slideshow": {
     "slide_type": "fragment"
    }
   },
   "source": [
    "### Quick Strat"
   ]
  },
  {
   "cell_type": "code",
   "execution_count": null,
   "metadata": {
    "slideshow": {
     "slide_type": "fragment"
    }
   },
   "outputs": [],
   "source": [
    "import sys\n",
    "\n",
    "def foo():\n",
    "    print(\"hello\")\n",
    "    print(\"world\")\n",
    "\n",
    "\n",
    "def tracer(frame, event, args):\n",
    "    print({'event': event, 'args': args, 'context': frame.f_code.co_name})\n",
    "    return tracer\n",
    "    \n",
    "if __name__ == '__main__':\n",
    "    sys.settrace(tracer)\n",
    "    foo()\n"
   ]
  },
  {
   "cell_type": "markdown",
   "metadata": {
    "slideshow": {
     "slide_type": "fragment"
    }
   },
   "source": [
    "    \n",
    "    {'event': 'call', 'args': None, 'context': 'foo'}\n",
    "    {'event': 'line', 'args': None, 'context': 'foo'}\n",
    "    hello\n",
    "    {'event': 'line', 'args': None, 'context': 'foo'}\n",
    "    world\n",
    "    {'event': 'return', 'args': None, 'context': 'foo'}"
   ]
  },
  {
   "cell_type": "markdown",
   "metadata": {
    "slideshow": {
     "slide_type": "subslide"
    }
   },
   "source": [
    "#### 事件枚举  \n",
    "事件 |处理器| 栈帧位置|参数|返回值\n",
    " :-| :-| :-|:-|:- \n",
    " call  | global tracer | 函数定义行 | None | local tracer / None\n",
    " line  | local tracer | 执行当前行 | None | local tracer / None\n",
    " return| local tracer | 返回语句所在行 | 返回值 / None | Ignored\n",
    " exception| local tracer| 异常冒泡所在行 | (exc, val, tb) | local tracer / None   \n",
    " \n",
    "\n"
   ]
  },
  {
   "cell_type": "markdown",
   "metadata": {
    "slideshow": {
     "slide_type": "subslide"
    }
   },
   "source": [
    "#### frame(栈帧)\n",
    "栈帧就是存储在用户栈上的（当然内核栈同样适用）每一次函数调用涉及的相关信息的记录单元， 栈帧的主要作用是**用来控制和保存一个过程的所有信息的**。\n",
    "\n",
    "有关python的栈帧数据结构的详细介绍， 可以查看[Python3 inspect module](https://docs.python.org/3/library/inspect.html)\n",
    "\n",
    "**几个常用的信息:**\n",
    "\n",
    "属性|保存的信息\n",
    ":-:| -:\n",
    "frame.f_lineno | current line number in Python source code\n",
    "frmae.f_locals | local namespace seen by this frame\n",
    "frmae.f_code.co_name | name with which this code object was defined\n",
    "frame.f_code.co_filename | name of file in which this code object was created"
   ]
  },
  {
   "cell_type": "markdown",
   "metadata": {
    "slideshow": {
     "slide_type": "slide"
    }
   },
   "source": [
    "### 应用 \n",
    "#### 变量追踪"
   ]
  },
  {
   "cell_type": "code",
   "execution_count": null,
   "metadata": {
    "slideshow": {
     "slide_type": "fragment"
    }
   },
   "outputs": [],
   "source": [
    "import sys\n",
    "\n",
    "def quick_sort(vector):\n",
    "    if len(vector) < 2:\n",
    "        return vector\n",
    "    \n",
    "    else:\n",
    "        flag = vector[0]\n",
    "        less = [i for i in vector[1:] if i <= flag]\n",
    "        big = [i for i in vector[1:] if i > flag]\n",
    "        final = quick_sort(less) + [flag] + quick_sort(big)\n",
    "        return final\n",
    "    \n",
    "def tracer(frame, event, args):\n",
    "    if 'final' in frame.f_locals.keys():\n",
    "        print(f'{frame.f_locals}')\n",
    "    return tracer\n",
    "\n",
    "if __name__ == '__main__':\n",
    "    sys.settrace(tracer)\n",
    "    test = [1, 9, 2, 4, 1, 2]\n",
    "    quick_sort(test)\n",
    "    \n"
   ]
  },
  {
   "cell_type": "markdown",
   "metadata": {
    "slideshow": {
     "slide_type": "subslide"
    }
   },
   "source": [
    "    \n",
    "    {'vector': [1, 9, 2, 4, 1, 2]}\n",
    "    {'vector': [1, 9, 2, 4, 1, 2], 'flag': 1}\n",
    "    {'vector': [1, 9, 2, 4, 1, 2], 'flag': 1, 'less': [1]}\n",
    "    {'vector': [1, 9, 2, 4, 1, 2], 'flag': 1, 'less': [1], 'big': [9, 2, 4, 2]}\n",
    "    ...\n",
    "    ...\n",
    "    {'vector': [9, 2, 4, 2], 'flag': 9, 'less': [2, 4, 2], 'big': [], 'final': [2, 2, 4, 9]}\n",
    "    {'vector': [9, 2, 4, 2], 'flag': 9, 'less': [2, 4, 2], 'big': [], 'final': [2, 2, 4, 9]}\n",
    "    {'vector': [1, 9, 2, 4, 1, 2], 'flag': 1, 'less': [1], 'big': [9, 2, 4, 2], 'final': [1, 1, 2, 2, 4, 9]}\n",
    "    {'vector': [1, 9, 2, 4, 1, 2], 'flag': 1, 'less': [1], 'big': [9, 2, 4, 2], 'final': [1, 1, 2, 2, 4, 9]}"
   ]
  },
  {
   "cell_type": "markdown",
   "metadata": {
    "slideshow": {
     "slide_type": "subslide"
    }
   },
   "source": [
    "##### 当年 1.6 亿美金估值的公司—— Digg 是如何被一句 Python 函数可变默参 毁掉的  [转自v2ex](https://www.v2ex.com/t/467817)\n",
    "\n",
    "      2011 年，Google 推出「 Panda 」 机制动摇了很多老的 SEO 手段，digg 流量被腰斩。推出 DiggV4 作战计划。经过紧张的开发发布，不过访客页面没问题，已登录用户打不开 MyNews 页面。开发不得不用临时手段把登录用户的默认页面改成 TopNews         \n",
    "      MyNews 只能通过不断重启进程才能短暂修复。初期以为是 cassandra 的缓存击穿了 memcache，后来加紧用 redis 重写了，还是得几个小时重启一次。   \n",
    "      折腾了一个月之后.....\n",
    "      终于发现原因了：API 服务器是 tornado 写的名字叫 Bobtail。里面最常用的函数是：\n",
    "<p> <code>    def get_user_by_ids(ids=[]):\n",
    "                ....            </code></p>\n",
    "      \n",
    "**然后这个ids通过一直append，直到撑爆内存。**\n",
    "      所以这个 MyNews 功能也渐渐用的人少，因为没法定制化看新闻，后来，大家都不去 diggv4 而去 reddit 了。。最后，digg 以 50w 美金被收了。\n",
    "\n"
   ]
  },
  {
   "cell_type": "markdown",
   "metadata": {
    "slideshow": {
     "slide_type": "slide"
    }
   },
   "source": [
    "#### 函数过程追踪"
   ]
  },
  {
   "cell_type": "code",
   "execution_count": 2,
   "metadata": {
    "slideshow": {
     "slide_type": "subslide"
    }
   },
   "outputs": [],
   "source": [
    "import asyncio\n",
    "import sys\n",
    "\n",
    "\n",
    "async def func1(future, N):\n",
    "    await asyncio.sleep(N)\n",
    "    future.set_result('This is func1')\n",
    "\n",
    "\n",
    "async def func2(future, N):\n",
    "    await asyncio.sleep(N)\n",
    "    future.set_result('This is func2')\n",
    "\n",
    "\n",
    "def got_result(future):\n",
    "    print(future.result())\n",
    "\n",
    "\n",
    "def tracer(frame, event, args):\n",
    "    if event == 'call' and frame.f_code.co_filename == 'test.py':\n",
    "        print({'filename': frame.f_code.co_filename,\n",
    "               'lineno': frame.f_lineno,\n",
    "               'context': frame.f_code.co_name})\n",
    "        return tracer\n",
    "    return tracer\n",
    "\n",
    "\n",
    "if __name__ == '__main__':\n",
    "    sys.settrace(tracer)\n",
    "\n",
    "    loop = asyncio.get_event_loop()\n",
    "\n",
    "    future1 = asyncio.Future()\n",
    "    future2 = asyncio.Future()\n",
    "\n",
    "    task = [asyncio.ensure_future(func1(future1, 3)),\n",
    "            asyncio.ensure_future(func2(future2, 2))]\n",
    "\n",
    "    future1.add_done_callback(got_result)\n",
    "    future2.add_done_callback(got_result)\n",
    "\n",
    "    loop.run_until_complete(asyncio.wait(task))\n",
    "    loop.close()\n"
   ]
  },
  {
   "cell_type": "markdown",
   "metadata": {
    "slideshow": {
     "slide_type": "subslide"
    }
   },
   "source": [
    "    \n",
    "    {'filename': 'test.py', 'lineno': 5, 'context': 'func1'}\n",
    "    {'filename': 'test.py', 'lineno': 10, 'context': 'func2'}\n",
    "    {'filename': 'test.py', 'lineno': 11, 'context': 'func2'}\n",
    "    {'filename': 'test.py', 'lineno': 15, 'context': 'got_result'}\n",
    "    This is func2\n",
    "    {'filename': 'test.py', 'lineno': 6, 'context': 'func1'}\n",
    "    {'filename': 'test.py', 'lineno': 15, 'context': 'got_result'}\n",
    "    This is func1\n",
    "    ..."
   ]
  }
 ],
 "metadata": {
  "celltoolbar": "Slideshow",
  "kernelspec": {
   "display_name": "Python 3",
   "language": "python",
   "name": "python3"
  },
  "language_info": {
   "codemirror_mode": {
    "name": "ipython",
    "version": 3
   },
   "file_extension": ".py",
   "mimetype": "text/x-python",
   "name": "python",
   "nbconvert_exporter": "python",
   "pygments_lexer": "ipython3",
   "version": "3.6.4"
  }
 },
 "nbformat": 4,
 "nbformat_minor": 2
}
