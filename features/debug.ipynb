{
 "cells": [
  {
   "cell_type": "markdown",
   "metadata": {
    "slideshow": {
     "slide_type": "slide"
    }
   },
   "source": [
    "# Debug （基于python语言)"
   ]
  },
  {
   "cell_type": "markdown",
   "metadata": {
    "slideshow": {
     "slide_type": "slide"
    }
   },
   "source": [
    "## 传统的调试姿势\n",
    "1. print / logging\n",
    "2. pdb (打断点)\n",
    "    \n",
    "### 不好用的地方:\n",
    "- 适用于开发过程\n",
    "- 无法持续追踪问题\n",
    "- 复杂的代码结构进行调试及其困难\n",
    "\n",
    "\n"
   ]
  },
  {
   "cell_type": "markdown",
   "metadata": {
    "slideshow": {
     "slide_type": "slide"
    }
   },
   "source": [
    "## sys.settrace\n",
    "** 目的: 收集程序运行时的信息。  **\n"
   ]
  },
  {
   "cell_type": "markdown",
   "metadata": {
    "slideshow": {
     "slide_type": "fragment"
    }
   },
   "source": [
    "**原理: 基于producer->controller->consumer的模型. **\n",
    "- producer: 事件的提供者, 也就是我们开发每行代码， 每行代码都会对应一个事件.\n",
    "- controller: 事件管理。\n",
    "- consumer: 开发者自己定义， 做一些需要获取信息的处理."
   ]
  },
  {
   "cell_type": "markdown",
   "metadata": {
    "slideshow": {
     "slide_type": "slide"
    }
   },
   "source": [
    "### Quick Strat"
   ]
  },
  {
   "cell_type": "code",
   "execution_count": null,
   "metadata": {
    "slideshow": {
     "slide_type": "fragment"
    }
   },
   "outputs": [],
   "source": [
    "import sys\n",
    "\n",
    "def foo():\n",
    "    print(\"hello world\")\n",
    "\n",
    "def tracer(frame, event, args):\n",
    "    if frame.f_code.co_filename == 'test.py':\n",
    "        print({'event': event, 'args': args, 'context': frame.f_code.co_name})\n",
    "    return tracer\n",
    "    \n",
    "if __name__ == '__main__':\n",
    "    sys.settrace(tracer)\n",
    "    foo()"
   ]
  },
  {
   "cell_type": "markdown",
   "metadata": {
    "slideshow": {
     "slide_type": "fragment"
    }
   },
   "source": [
    "    \n",
    "    {'event': 'call', 'args': None, 'context': 'foo'}\n",
    "    {'event': 'line', 'args': None, 'context': 'foo'}\n",
    "    hello world\n",
    "    {'event': 'return', 'args': None, 'context': 'foo'}\n",
    "    "
   ]
  },
  {
   "cell_type": "markdown",
   "metadata": {
    "slideshow": {
     "slide_type": "subslide"
    }
   },
   "source": [
    "#### 事件枚举  \n",
    "事件 |处理器| 栈帧位置|参数|返回值\n",
    " :-| :-| :-|:-|:- \n",
    " call  | global tracer | 函数定义行 | None | local tracer / None\n",
    " line  | local tracer | 执行当前行 | None | local tracer / None\n",
    " return| local tracer | 返回语句所在行 | 返回值 / None | Ignored\n",
    " exception| local tracer| 异常冒泡所在行 | (exc, val, tb) | local tracer / None   \n",
    " \n",
    "\n"
   ]
  },
  {
   "cell_type": "markdown",
   "metadata": {
    "slideshow": {
     "slide_type": "subslide"
    }
   },
   "source": [
    "#### frame(栈帧)\n",
    "栈帧就是存储在用户栈上的（当然内核栈同样适用）每一次函数调用涉及的相关信息的记录单元， 栈帧的主要作用是**用来控制和保存一个过程的所有信息的**。\n",
    "\n",
    "有关python的栈帧数据结构的详细介绍， 可以查看[Python3 inspect module](https://docs.python.org/3/library/inspect.html)\n",
    "\n",
    "**几个常用的信息:**\n",
    "\n",
    "属性|保存的信息\n",
    ":-:| -:\n",
    "frame.f_lineno | current line number in Python source code\n",
    "frmae.f_locals | local namespace seen by this frame\n",
    "frmae.f_code.co_name | name with which this code object was defined\n",
    "frame.f_code.co_filename | name of file in which this code object was created"
   ]
  },
  {
   "cell_type": "markdown",
   "metadata": {
    "slideshow": {
     "slide_type": "slide"
    }
   },
   "source": [
    "### 应用 \n",
    "#### 变量追踪"
   ]
  },
  {
   "cell_type": "code",
   "execution_count": null,
   "metadata": {
    "slideshow": {
     "slide_type": "fragment"
    }
   },
   "outputs": [],
   "source": [
    "import sys\n",
    "\n",
    "def quick_sort(vector):\n",
    "    if len(vector) < 2:\n",
    "        return vector\n",
    "    \n",
    "    else:\n",
    "        flag = vector[0]\n",
    "        less = [i for i in vector[1:] if i <= flag]\n",
    "        big = [i for i in vector[1:] if i > flag]\n",
    "        final = quick_sort(less) + [flag] + quick_sort(big)\n",
    "        return final\n",
    "    \n",
    "def tracer(frame, event, args):\n",
    "    if 'final' in frame.f_locals.keys():\n",
    "        print(f'{frame.f_locals}')\n",
    "    return tracer\n",
    "\n",
    "if __name__ == '__main__':\n",
    "    sys.settrace(tracer)\n",
    "    test = [1, 9, 2, 4, 1, 2]\n",
    "    quick_sort(test)"
   ]
  },
  {
   "cell_type": "markdown",
   "metadata": {
    "slideshow": {
     "slide_type": "subslide"
    }
   },
   "source": [
    "    \n",
    "    {'vector': [2, 4, 2], 'flag': 2, 'less': [2], 'big': [4], 'final': [2, 2, 4]}\n",
    "    {'vector': [2, 4, 2], 'flag': 2, 'less': [2], 'big': [4], 'final': [2, 2, 4]}\n",
    "    {'vector': [9, 2, 4, 2], 'flag': 9, 'less': [2, 4, 2], 'big': [], 'final': [2, 2, 4, 9]}\n",
    "    {'vector': [9, 2, 4, 2], 'flag': 9, 'less': [2, 4, 2], 'big': [], 'final': [2, 2, 4, 9]}\n",
    "    {'vector': [1, 9, 2, 4, 1, 2], 'flag': 1, 'less': [1], 'big': [9, 2, 4, 2], 'final': [1, 1, 2, 2, 4, 9]}\n",
    "    {'vector': [1, 9, 2, 4, 1, 2], 'flag': 1, 'less': [1], 'big': [9, 2, 4, 2], 'final': [1, 1, 2, 2, 4, 9]}"
   ]
  },
  {
   "cell_type": "markdown",
   "metadata": {
    "slideshow": {
     "slide_type": "slide"
    }
   },
   "source": [
    "#### 函数过程追踪"
   ]
  },
  {
   "cell_type": "code",
   "execution_count": 2,
   "metadata": {
    "slideshow": {
     "slide_type": "subslide"
    }
   },
   "outputs": [],
   "source": [
    "import asyncio\n",
    "import sys\n",
    "\n",
    "async def func1(future, N):\n",
    "    await asyncio.sleep(N)\n",
    "    future.set_result('This is func1')\n",
    "\n",
    "async def func2(future, N):\n",
    "    await asyncio.sleep(N)\n",
    "    future.set_result('This is func2')\n",
    "\n",
    "def got_result(future):\n",
    "    print(future.result())\n",
    "\n",
    "def tracer(frame, event, args):\n",
    "    if event == 'call' and frame.f_code.co_filename == 'test.py':\n",
    "        print({'filename': frame.f_code.co_filename,\n",
    "               'lineno': frame.f_lineno,\n",
    "               'context': frame.f_code.co_name})\n",
    "        return tracer\n",
    "    return tracer\n",
    "\n",
    "if __name__ == '__main__':\n",
    "    sys.settrace(tracer)\n",
    "\n",
    "    loop = asyncio.get_event_loop()\n",
    "    future1 = asyncio.Future()\n",
    "    future2 = asyncio.Future()\n",
    "\n",
    "    task = [asyncio.ensure_future(func1(future1, 3)),\n",
    "            asyncio.ensure_future(func2(future2, 2))]\n",
    "\n",
    "    future1.add_done_callback(got_result)\n",
    "    future2.add_done_callback(got_result)\n",
    "    loop.run_until_complete(asyncio.wait(task))"
   ]
  },
  {
   "cell_type": "markdown",
   "metadata": {
    "slideshow": {
     "slide_type": "subslide"
    }
   },
   "source": [
    "    \n",
    "    {'filename': 'test.py', 'lineno': 5, 'context': 'func1'}\n",
    "    {'filename': 'test.py', 'lineno': 10, 'context': 'func2'}\n",
    "    {'filename': 'test.py', 'lineno': 11, 'context': 'func2'}\n",
    "    {'filename': 'test.py', 'lineno': 15, 'context': 'got_result'}\n",
    "    This is func2\n",
    "    {'filename': 'test.py', 'lineno': 6, 'context': 'func1'}\n",
    "    {'filename': 'test.py', 'lineno': 15, 'context': 'got_result'}\n",
    "    This is func1"
   ]
  },
  {
   "cell_type": "markdown",
   "metadata": {
    "slideshow": {
     "slide_type": "slide"
    }
   },
   "source": [
    "#### 高级应用\n",
    "python是一门动态语言， 也就没有静态语言类型检查这种优点。代码中经常需要对类型进行判断， assert isinstance(xx, xx), 这种情况就导致可读性比较差。        \n",
    "\n",
    "\n",
    "为了改善代码可读性的问题， python3.6完善类型注释的语法(pep526)。 facebook根据这套语法开源了一款类型检查的工具: **[pyre-check](https://github.com/facebook/pyre-check)**， "
   ]
  },
  {
   "cell_type": "code",
   "execution_count": 5,
   "metadata": {
    "slideshow": {
     "slide_type": "fragment"
    }
   },
   "outputs": [
    {
     "name": "stdout",
     "output_type": "stream",
     "text": [
      "hello, wang\n",
      "hello, 11\n"
     ]
    }
   ],
   "source": [
    "def hello(name: str) -> str:\n",
    "    return f\"hello, {name}\"\n",
    "\n",
    "print(hello('wang'))\n",
    "print(hello(11))\n"
   ]
  },
  {
   "cell_type": "markdown",
   "metadata": {
    "slideshow": {
     "slide_type": "fragment"
    }
   },
   "source": [
    "\n",
    "    \n",
    "    ➜  test git:(master) ✗ pyre check\n",
    "     ƛ Found 1 type error!\n",
    "    test.py:6:12 Incompatible parameter type [6]: Expected `str` but got `int`."
   ]
  },
  {
   "cell_type": "markdown",
   "metadata": {
    "slideshow": {
     "slide_type": "fragment"
    }
   },
   "source": [
    "facebook有百万行级别的代码， 一行一行去添加类型注释不太现实， 所以它们又开发了**[monkeyType](https://github.com/Instagram/MonkeyType)**， 收集程序运行时候的信息，然后将类型信息应用到代码上 "
   ]
  },
  {
   "cell_type": "markdown",
   "metadata": {
    "slideshow": {
     "slide_type": "subslide"
    }
   },
   "source": [
    "    ➜  test git:(master) ✗ ls      \n",
    "    main.py test.py"
   ]
  },
  {
   "cell_type": "markdown",
   "metadata": {
    "slideshow": {
     "slide_type": "fragment"
    }
   },
   "source": [
    "\n",
    "    ➜  test git:(master) ✗ cat test.py\n",
    "    def hello(name):\n",
    "        return f'hello, {name}'\n",
    "\n"
   ]
  },
  {
   "cell_type": "markdown",
   "metadata": {
    "slideshow": {
     "slide_type": "fragment"
    }
   },
   "source": [
    "    \n",
    "    ➜  test git:(master) ✗ monkeytype run main.py  && ls          \n",
    "    main.py            monkeytype.sqlite3 test.py\n",
    "    "
   ]
  },
  {
   "cell_type": "markdown",
   "metadata": {
    "slideshow": {
     "slide_type": "fragment"
    }
   },
   "source": [
    "    ➜  test git:(master) ✗ monkeytype apply test && cat test.py\n",
    "    def hello(name: str) -> str:\n",
    "        return f'hello, {name}'"
   ]
  }
 ],
 "metadata": {
  "celltoolbar": "Slideshow",
  "kernelspec": {
   "display_name": "Python 3",
   "language": "python",
   "name": "python3"
  },
  "language_info": {
   "codemirror_mode": {
    "name": "ipython",
    "version": 3
   },
   "file_extension": ".py",
   "mimetype": "text/x-python",
   "name": "python",
   "nbconvert_exporter": "python",
   "pygments_lexer": "ipython3",
   "version": "3.6.4"
  }
 },
 "nbformat": 4,
 "nbformat_minor": 2
}
