{
 "cells": [
  {
   "cell_type": "markdown",
   "metadata": {},
   "source": [
    "## Asynchronous python\n",
    "** python异步编程总结 **\n",
    "****\n",
    "\n",
    "** 推荐几个讲asyncio的视频 **   \n",
    "1. [Fear and Awaiting in Async](https://www.youtube.com/watch?v=E-1Y4kSsAFc)\n",
    "2. [asyncawait and asyncio in Python 3 6](https://www.youtube.com/watch?v=2ZFFv-wZ8_g)\n",
    "\n",
    "** asyncio官方文档 **   \n",
    "[Tasks and coroutines](https://docs.python.org/3/library/asyncio-task.html)  "
   ]
  },
  {
   "cell_type": "markdown",
   "metadata": {},
   "source": [
    "** Processing vs Threads vs Async **"
   ]
  },
  {
   "cell_type": "markdown",
   "metadata": {},
   "source": [
    "|                         | Processes       | Threads         | Async            |\n",
    "|-----------              | ----------      | ------:         | :----:           |\n",
    "|Optimize waiting periods | Yes (preemptive)| Yes (preemptive)| Yes (cooperative)|\n",
    "|Use all Cpu cores        | Yes             | No              | No               |\n",
    "|Scalability              | low (ones/tens) | Medium(hundreds)| High (thousands+)|\n",
    "|Use blocking std library functions| Yes |  yes | No|\n",
    "|GIL interference     | No | Some | No"
   ]
  },
  {
   "cell_type": "markdown",
   "metadata": {},
   "source": [
    "### async/await \n",
    "async/await 是Python3新加入的关键词。 它基于iterator协议并且实现了 \"__await__\" \"__aiter__\" \"__anext__\" \"__aenter__\" \"__aexit__\"魔法方法.    \n",
    "#### async\n",
    "**通过async或者通过@asyncio.coroutine修饰的函数成为一个\"用户态的线程\"(提供了入口函数，调用参数，放置局部变量的栈), 也可以称为coroutine(协程)**    \n",
    "***\n",
    "** 协程只有在事件循环启动时才能运行 **\n"
   ]
  },
  {
   "cell_type": "code",
   "execution_count": 45,
   "metadata": {},
   "outputs": [],
   "source": [
    "import asyncio\n",
    "async def hello():\n",
    "    await print(\"Hello\")"
   ]
  },
  {
   "cell_type": "markdown",
   "metadata": {},
   "source": [
    "** Jupyter 底层是tornado**"
   ]
  },
  {
   "cell_type": "code",
   "execution_count": 46,
   "metadata": {},
   "outputs": [
    {
     "name": "stdout",
     "output_type": "stream",
     "text": [
      "Hello\n"
     ]
    }
   ],
   "source": [
    "from tornado.ioloop import IOLoop\n",
    "\n",
    "IOLoop.current().add_callback(hello)"
   ]
  },
  {
   "cell_type": "markdown",
   "metadata": {},
   "source": [
    "#### await\n",
    "**暂停，通过await/yield from修饰一个future， 等待future运行完毕， 返回future对象的结果.**    \n",
    "**通过await/yield from 修饰一个协程（协程2), 等待并返回协程2的结果**\n"
   ]
  },
  {
   "cell_type": "markdown",
   "metadata": {},
   "source": [
    "** 协程示例: 在5秒钟内每秒显示当前日期 **"
   ]
  },
  {
   "cell_type": "code",
   "execution_count": null,
   "metadata": {},
   "outputs": [],
   "source": [
    "import asyncio\n",
    "import datetime\n",
    "\n",
    "async def display_date(loop):\n",
    "    end_time = loop.time() + 5.0\n",
    "    while True:\n",
    "        print(datetime.datetime.now())\n",
    "        if (loop.time() + 1.0) >= end_time:\n",
    "            break\n",
    "        await asyncio.sleep(1)\n",
    "\n",
    "loop = asyncio.get_event_loop()\n",
    "# Blocking call which returns when the display_date() coroutine is done\n",
    "loop.run_until_complete(display_date(loop))\n",
    "loop.close()\n"
   ]
  },
  {
   "cell_type": "markdown",
   "metadata": {},
   "source": [
    "#### Future\n",
    "** 申请一个future对象 future = asyncio.Future() 可以理解为future对象为一个未来的任务**\n",
    "***\n",
    "Example:"
   ]
  },
  {
   "cell_type": "code",
   "execution_count": null,
   "metadata": {},
   "outputs": [],
   "source": [
    "import asyncio\n",
    "\n",
    "async def slow_operation(future):\n",
    "    await asyncio.sleep(1)\n",
    "    future.set_result('Future is done!')\n",
    "# get Event loop instance\n",
    "loop = asyncio.get_event_loop()\n",
    "future = asyncio.Future()\n",
    "\n",
    "# translate future into task()\n",
    "asyncio.ensure_future(slow_operation(future))\n",
    "\n",
    "loop.run_until_complete(future)\n",
    "print(future.result())\n",
    "loop.close()"
   ]
  },
  {
   "cell_type": "code",
   "execution_count": null,
   "metadata": {},
   "outputs": [],
   "source": []
  }
 ],
 "metadata": {
  "kernelspec": {
   "display_name": "Python 3",
   "language": "python",
   "name": "python3"
  },
  "language_info": {
   "codemirror_mode": {
    "name": "ipython",
    "version": 3
   },
   "file_extension": ".py",
   "mimetype": "text/x-python",
   "name": "python",
   "nbconvert_exporter": "python",
   "pygments_lexer": "ipython3",
   "version": "3.6.4"
  }
 },
 "nbformat": 4,
 "nbformat_minor": 2
}
