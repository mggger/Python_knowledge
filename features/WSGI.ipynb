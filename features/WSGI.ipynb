{
 "cells": [
  {
   "cell_type": "markdown",
   "metadata": {},
   "source": [
    "# WSGI\n",
    "\n",
    "[pep333](https://www.python.org/dev/peps/pep-0333/)     \n",
    "WSGI: Web Server Gateway Interface 。它是Web服务器和Python Web框架/应用程序之间的标准化接口。\n",
    "\n",
    "## WSGI的目的\n",
    "WSGI旨在以更统一的方式部署使用不同框架的Python Web应用程序。可以使用与实现WSGI的任何其他Web应用程序相同的方式调用实现WSGI接口的Web应用程序。使用WSGI的Web应用程序的基本调用非常简单.\n",
    "\n",
    "### WSGI详解\n",
    "WSGI接口有两个方面：“服务器”或“网关”端，以及“应用程序”或“框架”端。服务器端调用应用程序端提供的可调用对象。提供该对象的具体细节取决于服务器或网关。假设某些服务器或网关需要应用程序的部署者编写一个简短的脚本来创建服务器或网关的实例，并为其提供应用程序对象。其他服务器和网关可以使用配置文件或其他机制来指定应从哪里导入或以其他方式获得应用程序对象。\n",
    "\n",
    "#### app / framework\n",
    "应用程序对象只是一个可调用的对象，它接受两个参数。术语“对象”不应该被误解为需要实际的对象实例：具有__call__方法的函数，方法，类或实例都可以用作应用程序对象。应用程序对象必须能够被多次调用，因为几乎所有服务器/网关（CGI除外）都会发出这样的重复请求。"
   ]
  },
  {
   "cell_type": "code",
   "execution_count": 2,
   "metadata": {},
   "outputs": [],
   "source": [
    "def simple_app(environ, start_response):\n",
    "    \"\"\"Simplest possible application object\"\"\"\n",
    "    status = '200 OK'\n",
    "    response_headers = [('Content-type', 'text/plain')]\n",
    "    start_response(status, response_headers)\n",
    "    return ['Hello world!\\n']"
   ]
  },
  {
   "cell_type": "code",
   "execution_count": 3,
   "metadata": {},
   "outputs": [],
   "source": [
    "class AppClass:\n",
    "    def __init__(self, environ, start_response):\n",
    "        self.environ = environ\n",
    "        self.start = start_response\n",
    "\n",
    "    def __iter__(self):\n",
    "        status = '200 OK'\n",
    "        response_headers = [('Content-type', 'text/plain')]\n",
    "        self.start(status, response_headers)\n",
    "        yield \"Hello world!\\n\""
   ]
  },
  {
   "cell_type": "markdown",
   "metadata": {},
   "source": [
    "#### The Server/Gateway \n",
    "服务器或网关为从HTTP客户端接收的每个请求调用一次可调用的应用程序，该请求针对应用程序."
   ]
  },
  {
   "cell_type": "code",
   "execution_count": 6,
   "metadata": {},
   "outputs": [],
   "source": [
    "import os, sys\n",
    "\n",
    "def run_with_cgi(application):\n",
    "    environ = dict(os.environ.items())\n",
    "    environ['wsgi.input']        = sys.stdin\n",
    "    environ['wsgi.errors']       = sys.stderr\n",
    "    environ['wsgi.version']      = (1, 0)\n",
    "    environ['wsgi.multithread']  = False\n",
    "    environ['wsgi.multiprocess'] = True\n",
    "    environ['wsgi.run_once']     = True\n",
    "\n",
    "    if environ.get('HTTPS', 'off') in ('on', '1'):\n",
    "        environ['wsgi.url_scheme'] = 'https'\n",
    "    else:\n",
    "        environ['wsgi.url_scheme'] = 'http'\n",
    "\n",
    "    headers_set = []\n",
    "    headers_sent = []\n",
    "\n",
    "    def write(data):\n",
    "        if not headers_set:\n",
    "             raise AssertionError(\"write() before start_response()\")\n",
    "\n",
    "        elif not headers_sent:\n",
    "             # Before the first output, send the stored headers\n",
    "             status, response_headers = headers_sent[:] = headers_set\n",
    "             sys.stdout.write('Status: %s\\r\\n' % status)\n",
    "             for header in response_headers:\n",
    "                 sys.stdout.write('%s: %s\\r\\n' % header)\n",
    "             sys.stdout.write('\\r\\n')\n",
    "\n",
    "        sys.stdout.write(data)\n",
    "        sys.stdout.flush()\n",
    "\n",
    "    def start_response(status, response_headers, exc_info=None):\n",
    "        if exc_info:\n",
    "            try:\n",
    "                if headers_sent:\n",
    "                    # Re-raise original exception if headers sent\n",
    "                    raise (exc_info[0], exc_info[1], exc_info[2])\n",
    "            finally:\n",
    "                exc_info = None     # avoid dangling circular ref\n",
    "        elif headers_set:\n",
    "            raise AssertionError(\"Headers already set!\")\n",
    "\n",
    "        headers_set[:] = [status, response_headers]\n",
    "        return write\n",
    "\n",
    "    result = application(environ, start_response)\n",
    "    try:\n",
    "        for data in result:\n",
    "            if data:    # don't send headers until body appears\n",
    "                write(data)\n",
    "        if not headers_sent:\n",
    "            write('')   # send headers now if body was empty\n",
    "    finally:\n",
    "        if hasattr(result, 'close'):\n",
    "            result.close()"
   ]
  },
  {
   "cell_type": "markdown",
   "metadata": {},
   "source": [
    "#### WSGI Middleware\n",
    "它的作用有：\n",
    "- 处理app的错误\n",
    "- 提供会话支持\n",
    "- 检测你的app\n",
    "- 处理登陆认证\n",
    "- Gzip输出"
   ]
  },
  {
   "cell_type": "code",
   "execution_count": null,
   "metadata": {},
   "outputs": [],
   "source": [
    "# 处理web错误\n",
    "from paste.exceptions.errormiddleware import ErrorMiddleware\n",
    "wrapped_app = ErrorMiddleware(simple_app, global_conf, debug=False,\n",
    "                              error_email='fred@example.com',smtp_server='localhost')"
   ]
  },
  {
   "cell_type": "markdown",
   "metadata": {},
   "source": [
    "# uWSGI\n",
    "uWSGI项目旨在全栈开发用于构建托管服务。\n",
    "\n",
    "应用程序服务器（用于各种编程语言和协议），代理，进程管理器和监视器都使用通用的api和通用配置样式实现。\n",
    "\n",
    "由于其可插拔架构，它可以扩展为支持更多平台和语言。\n",
    "\n",
    "目前，您可以使用C，C ++和Objective-C编写插件。\n",
    "\n",
    "名称中的“WSGI”部分是对同名Python标准的致敬，因为它是该项目的第一个开发插件。\n",
    "\n",
    "多功能性，性能，低资源使用和可靠性是项目的优势（以及遵循的唯一规则）。"
   ]
  },
  {
   "cell_type": "code",
   "execution_count": null,
   "metadata": {},
   "outputs": [],
   "source": []
  }
 ],
 "metadata": {
  "kernelspec": {
   "display_name": "Python 3",
   "language": "python",
   "name": "python3"
  },
  "language_info": {
   "codemirror_mode": {
    "name": "ipython",
    "version": 3
   },
   "file_extension": ".py",
   "mimetype": "text/x-python",
   "name": "python",
   "nbconvert_exporter": "python",
   "pygments_lexer": "ipython3",
   "version": "3.7.0"
  }
 },
 "nbformat": 4,
 "nbformat_minor": 2
}
